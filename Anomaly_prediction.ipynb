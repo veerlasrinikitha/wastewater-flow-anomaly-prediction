{
  "cells": [
    {
      "cell_type": "code",
      "execution_count": null,
      "metadata": {
        "colab": {
          "base_uri": "https://localhost:8080/"
        },
        "id": "iLJvBKmzZOmh",
        "outputId": "2b0b5114-851c-4c1a-9597-ed1a1cf6c50b"
      },
      "outputs": [
        {
          "output_type": "stream",
          "name": "stdout",
          "text": [
            "Drive already mounted at /content/drive; to attempt to forcibly remount, call drive.mount(\"/content/drive\", force_remount=True).\n"
          ]
        }
      ],
      "source": [
        "from google.colab import drive\n",
        "drive.mount('/content/drive')"
      ]
    },
    {
      "cell_type": "code",
      "execution_count": null,
      "metadata": {
        "colab": {
          "base_uri": "https://localhost:8080/"
        },
        "id": "yXcPYeDFRs0-",
        "outputId": "5645e70e-f34e-4f80-ebbf-32cbd9efe579"
      },
      "outputs": [
        {
          "output_type": "stream",
          "name": "stdout",
          "text": [
            "Requirement already satisfied: torch-geometric in /usr/local/lib/python3.10/dist-packages (2.6.1)\n",
            "Requirement already satisfied: aiohttp in /usr/local/lib/python3.10/dist-packages (from torch-geometric) (3.11.2)\n",
            "Requirement already satisfied: fsspec in /usr/local/lib/python3.10/dist-packages (from torch-geometric) (2024.10.0)\n",
            "Requirement already satisfied: jinja2 in /usr/local/lib/python3.10/dist-packages (from torch-geometric) (3.1.4)\n",
            "Requirement already satisfied: numpy in /usr/local/lib/python3.10/dist-packages (from torch-geometric) (1.26.4)\n",
            "Requirement already satisfied: psutil>=5.8.0 in /usr/local/lib/python3.10/dist-packages (from torch-geometric) (5.9.5)\n",
            "Requirement already satisfied: pyparsing in /usr/local/lib/python3.10/dist-packages (from torch-geometric) (3.2.0)\n",
            "Requirement already satisfied: requests in /usr/local/lib/python3.10/dist-packages (from torch-geometric) (2.32.3)\n",
            "Requirement already satisfied: tqdm in /usr/local/lib/python3.10/dist-packages (from torch-geometric) (4.66.6)\n",
            "Requirement already satisfied: aiohappyeyeballs>=2.3.0 in /usr/local/lib/python3.10/dist-packages (from aiohttp->torch-geometric) (2.4.3)\n",
            "Requirement already satisfied: aiosignal>=1.1.2 in /usr/local/lib/python3.10/dist-packages (from aiohttp->torch-geometric) (1.3.1)\n",
            "Requirement already satisfied: attrs>=17.3.0 in /usr/local/lib/python3.10/dist-packages (from aiohttp->torch-geometric) (24.2.0)\n",
            "Requirement already satisfied: frozenlist>=1.1.1 in /usr/local/lib/python3.10/dist-packages (from aiohttp->torch-geometric) (1.5.0)\n",
            "Requirement already satisfied: multidict<7.0,>=4.5 in /usr/local/lib/python3.10/dist-packages (from aiohttp->torch-geometric) (6.1.0)\n",
            "Requirement already satisfied: propcache>=0.2.0 in /usr/local/lib/python3.10/dist-packages (from aiohttp->torch-geometric) (0.2.0)\n",
            "Requirement already satisfied: yarl<2.0,>=1.17.0 in /usr/local/lib/python3.10/dist-packages (from aiohttp->torch-geometric) (1.17.2)\n",
            "Requirement already satisfied: async-timeout<6.0,>=4.0 in /usr/local/lib/python3.10/dist-packages (from aiohttp->torch-geometric) (4.0.3)\n",
            "Requirement already satisfied: MarkupSafe>=2.0 in /usr/local/lib/python3.10/dist-packages (from jinja2->torch-geometric) (3.0.2)\n",
            "Requirement already satisfied: charset-normalizer<4,>=2 in /usr/local/lib/python3.10/dist-packages (from requests->torch-geometric) (3.4.0)\n",
            "Requirement already satisfied: idna<4,>=2.5 in /usr/local/lib/python3.10/dist-packages (from requests->torch-geometric) (3.10)\n",
            "Requirement already satisfied: urllib3<3,>=1.21.1 in /usr/local/lib/python3.10/dist-packages (from requests->torch-geometric) (2.2.3)\n",
            "Requirement already satisfied: certifi>=2017.4.17 in /usr/local/lib/python3.10/dist-packages (from requests->torch-geometric) (2024.8.30)\n",
            "Requirement already satisfied: typing-extensions>=4.1.0 in /usr/local/lib/python3.10/dist-packages (from multidict<7.0,>=4.5->aiohttp->torch-geometric) (4.12.2)\n",
            "Requirement already satisfied: openpyxl in /usr/local/lib/python3.10/dist-packages (3.1.5)\n",
            "Requirement already satisfied: et-xmlfile in /usr/local/lib/python3.10/dist-packages (from openpyxl) (2.0.0)\n",
            "Requirement already satisfied: imbalanced-learn in /usr/local/lib/python3.10/dist-packages (0.12.4)\n",
            "Requirement already satisfied: numpy>=1.17.3 in /usr/local/lib/python3.10/dist-packages (from imbalanced-learn) (1.26.4)\n",
            "Requirement already satisfied: scipy>=1.5.0 in /usr/local/lib/python3.10/dist-packages (from imbalanced-learn) (1.13.1)\n",
            "Requirement already satisfied: scikit-learn>=1.0.2 in /usr/local/lib/python3.10/dist-packages (from imbalanced-learn) (1.5.2)\n",
            "Requirement already satisfied: joblib>=1.1.1 in /usr/local/lib/python3.10/dist-packages (from imbalanced-learn) (1.4.2)\n",
            "Requirement already satisfied: threadpoolctl>=2.0.0 in /usr/local/lib/python3.10/dist-packages (from imbalanced-learn) (3.5.0)\n"
          ]
        }
      ],
      "source": [
        "!pip install torch-geometric\n",
        "!pip install openpyxl\n",
        "!pip install imbalanced-learn"
      ]
    },
    {
      "cell_type": "code",
      "execution_count": null,
      "metadata": {
        "id": "E5gSf1zKRzMY"
      },
      "outputs": [],
      "source": [
        "import pandas as pd\n",
        "import numpy as np\n",
        "import torch\n",
        "from sklearn.preprocessing import MinMaxScaler\n",
        "from sklearn.utils.class_weight import compute_class_weight\n",
        "from imblearn.over_sampling import SMOTE\n",
        "from torch.utils.data import DataLoader, TensorDataset\n",
        "from torch_geometric.nn import GCNConv\n",
        "from torch_geometric.nn import global_mean_pool\n",
        "import torch.nn as nn\n",
        "import torch.nn.functional as F\n",
        "from sklearn.model_selection import train_test_split\n",
        "from sklearn.metrics import (\n",
        "    accuracy_score, precision_score, recall_score,\n",
        "    f1_score, confusion_matrix, roc_auc_score\n",
        ")\n",
        "import matplotlib.pyplot as plt\n",
        "import torch_geometric.nn as pyg_nn\n",
        "from sklearn.linear_model import LogisticRegression\n",
        "from sklearn.svm import SVC\n",
        "import matplotlib.pyplot as plt"
      ]
    },
    {
      "cell_type": "code",
      "execution_count": null,
      "metadata": {
        "id": "NmRTLYfVR4n6"
      },
      "outputs": [],
      "source": [
        "# Load node and edge data\n",
        "nodes_df = pd.read_csv('/content/drive/MyDrive/MachineLearning/WW01_node.csv')\n",
        "edges_df = pd.read_csv('/content/drive/MyDrive/MachineLearning/WW01_edge.csv')"
      ]
    },
    {
      "cell_type": "code",
      "execution_count": null,
      "metadata": {
        "id": "wOTru76yR8as"
      },
      "outputs": [],
      "source": [
        "# Load time-series data for flow rate and water depth\n",
        "flow_rate_df = pd.read_excel('/content/drive/MyDrive/MachineLearning/WW01_v3/Flow_rate.xlsx')\n",
        "water_depth_df = pd.read_excel('/content/drive/MyDrive/MachineLearning/WW01_v3/WW01_v3.xlsx')"
      ]
    },
    {
      "cell_type": "code",
      "execution_count": null,
      "metadata": {
        "id": "E4nw45bhR__1"
      },
      "outputs": [],
      "source": [
        "# Preprocess data\n",
        "flow_rate_df.columns = flow_rate_df.columns.astype(str)\n",
        "water_depth_df.columns = water_depth_df.columns.astype(str)\n",
        "flow_rate_df = flow_rate_df.apply(pd.to_numeric, errors='coerce').fillna(0)\n",
        "water_depth_df = water_depth_df.apply(pd.to_numeric, errors='coerce').fillna(0)"
      ]
    },
    {
      "cell_type": "code",
      "execution_count": null,
      "metadata": {
        "id": "joT6rkcVSCRB"
      },
      "outputs": [],
      "source": [
        "scaler = MinMaxScaler()\n",
        "flow_rate_scaled = scaler.fit_transform(flow_rate_df.iloc[:, 1:])\n",
        "water_depth_scaled = scaler.fit_transform(water_depth_df.iloc[:, 1:])"
      ]
    },
    {
      "cell_type": "code",
      "execution_count": null,
      "metadata": {
        "id": "SgpgInRLSZMd"
      },
      "outputs": [],
      "source": [
        "# Binarize the target variable\n",
        "threshold = 0.5  # Adjust this threshold as per your data\n",
        "water_depth_balanced = (water_depth_scaled[:, -1] > threshold).astype(int)\n"
      ]
    },
    {
      "cell_type": "code",
      "execution_count": null,
      "metadata": {
        "colab": {
          "base_uri": "https://localhost:8080/"
        },
        "id": "N9vJogi7S1IB",
        "outputId": "8a3adb1c-53e5-47e6-858c-2e35c055e1ef"
      },
      "outputs": [
        {
          "output_type": "stream",
          "name": "stdout",
          "text": [
            "Aligned Flow Rate Shape: (434, 23)\n",
            "Aligned Water Depth Shape: (434,)\n"
          ]
        }
      ],
      "source": [
        "# Align the datasets\n",
        "min_samples = min(flow_rate_scaled.shape[0], water_depth_balanced.shape[0])\n",
        "flow_rate_scaled = flow_rate_scaled[:min_samples]\n",
        "water_depth_balanced = water_depth_balanced[:min_samples]\n",
        "\n",
        "print(\"Aligned Flow Rate Shape:\", flow_rate_scaled.shape)\n",
        "print(\"Aligned Water Depth Shape:\", water_depth_balanced.shape)"
      ]
    },
    {
      "cell_type": "code",
      "execution_count": null,
      "metadata": {
        "colab": {
          "base_uri": "https://localhost:8080/"
        },
        "id": "_2SB5N4pSDcq",
        "outputId": "13fec7a1-6f3d-4bf4-9163-f338aea5989f"
      },
      "outputs": [
        {
          "output_type": "stream",
          "name": "stdout",
          "text": [
            "Balanced Data Shapes:\n",
            "Flow Rate: (856, 23)\n",
            "Water Depth: (856,)\n"
          ]
        }
      ],
      "source": [
        "# Apply SMOTE\n",
        "smote = SMOTE(random_state=42)\n",
        "flow_rate_balanced, water_depth_balanced = smote.fit_resample(flow_rate_scaled, water_depth_balanced)\n",
        "\n",
        "print(\"Balanced Data Shapes:\")\n",
        "print(\"Flow Rate:\", flow_rate_balanced.shape)\n",
        "print(\"Water Depth:\", water_depth_balanced.shape)"
      ]
    },
    {
      "cell_type": "code",
      "execution_count": null,
      "metadata": {
        "colab": {
          "base_uri": "https://localhost:8080/"
        },
        "id": "npdHyfScSzjC",
        "outputId": "e7bf1482-d2f1-4f59-f724-59f42d572363"
      },
      "outputs": [
        {
          "output_type": "stream",
          "name": "stdout",
          "text": [
            "Class Distribution After SMOTE: {0: 428, 1: 428}\n"
          ]
        }
      ],
      "source": [
        "unique, counts = np.unique(water_depth_balanced, return_counts=True)\n",
        "print(\"Class Distribution After SMOTE:\", dict(zip(unique, counts)))\n"
      ]
    },
    {
      "cell_type": "code",
      "execution_count": null,
      "metadata": {
        "id": "3ac1g7UgTDMz"
      },
      "outputs": [],
      "source": [
        "# Prepare PyTorch datasets\n",
        "train_data, test_data, train_labels, test_labels = train_test_split(\n",
        "    flow_rate_balanced, water_depth_balanced, test_size=0.2, random_state=42\n",
        ")\n",
        "\n",
        "train_dataset = TensorDataset(\n",
        "    torch.tensor(train_data, dtype=torch.float32),\n",
        "    torch.tensor(train_labels, dtype=torch.float32)\n",
        ")\n",
        "test_dataset = TensorDataset(\n",
        "    torch.tensor(test_data, dtype=torch.float32),\n",
        "    torch.tensor(test_labels, dtype=torch.float32)\n",
        ")\n",
        "\n",
        "train_loader = DataLoader(train_dataset, batch_size=32, shuffle=True)\n",
        "test_loader = DataLoader(test_dataset, batch_size=32, shuffle=False)"
      ]
    },
    {
      "cell_type": "code",
      "execution_count": null,
      "metadata": {
        "id": "UoDMQ7tVTWxP"
      },
      "outputs": [],
      "source": [
        "class CustomLSTM(nn.Module):\n",
        "    def __init__(self, input_size, hidden_size):\n",
        "        super(CustomLSTM, self).__init__()\n",
        "        self.input_size = input_size\n",
        "        self.hidden_size = hidden_size\n",
        "\n",
        "        # LSTM weights and biases\n",
        "        self.W_i = nn.Parameter(torch.randn(hidden_size, input_size))\n",
        "        self.W_f = nn.Parameter(torch.randn(hidden_size, input_size))\n",
        "        self.W_c = nn.Parameter(torch.randn(hidden_size, input_size))\n",
        "        self.W_o = nn.Parameter(torch.randn(hidden_size, input_size))\n",
        "\n",
        "        self.U_i = nn.Parameter(torch.randn(hidden_size, hidden_size))\n",
        "        self.U_f = nn.Parameter(torch.randn(hidden_size, hidden_size))\n",
        "        self.U_c = nn.Parameter(torch.randn(hidden_size, hidden_size))\n",
        "        self.U_o = nn.Parameter(torch.randn(hidden_size, hidden_size))\n",
        "\n",
        "        self.b_i = nn.Parameter(torch.zeros(hidden_size))\n",
        "        self.b_f = nn.Parameter(torch.zeros(hidden_size))\n",
        "        self.b_c = nn.Parameter(torch.zeros(hidden_size))\n",
        "        self.b_o = nn.Parameter(torch.zeros(hidden_size))\n",
        "\n",
        "    def forward(self, x):\n",
        "        batch_size, seq_len, _ = x.size()\n",
        "        h = torch.zeros(batch_size, self.hidden_size, device=x.device)\n",
        "        c = torch.zeros(batch_size, self.hidden_size, device=x.device)\n",
        "\n",
        "        for t in range(seq_len):\n",
        "            x_t = x[:, t, :]\n",
        "            i_t = torch.sigmoid(x_t @ self.W_i.T + h @ self.U_i.T + self.b_i)\n",
        "            f_t = torch.sigmoid(x_t @ self.W_f.T + h @ self.U_f.T + self.b_f)\n",
        "            o_t = torch.sigmoid(x_t @ self.W_o.T + h @ self.U_o.T + self.b_o)\n",
        "            c_tilde = torch.tanh(x_t @ self.W_c.T + h @ self.U_c.T + self.b_c)\n",
        "            c = f_t * c + i_t * c_tilde\n",
        "            h = o_t * torch.tanh(c)\n",
        "\n",
        "        return h\n",
        "\n",
        "\n",
        "\n",
        "\n",
        "\n",
        "# Manual GNN Implementation\n",
        "class CustomGNN(nn.Module):\n",
        "    def __init__(self, in_channels, out_channels):\n",
        "        super(CustomGNN, self).__init__()\n",
        "        self.in_channels = in_channels\n",
        "        self.out_channels = out_channels\n",
        "        self.W = nn.Parameter(torch.randn(out_channels, in_channels))  # Learnable weights\n",
        "        self.b = nn.Parameter(torch.zeros(out_channels))  # Learnable bias\n",
        "\n",
        "    def forward(self, x, edge_index):\n",
        "        # Initialize output node features\n",
        "        out = torch.zeros(x.size(0), self.out_channels, device=x.device)\n",
        "\n",
        "        # Aggregate messages from neighbors\n",
        "        row, col = edge_index\n",
        "        for i in range(x.size(0)):  # For each node\n",
        "            neighbors = col[row == i]\n",
        "            if len(neighbors) > 0:\n",
        "                neighbor_features = x[neighbors]  # Get features of neighboring nodes\n",
        "                aggregated_message = neighbor_features.mean(dim=0)  # Mean aggregation\n",
        "                out[i] = torch.matmul(self.W, aggregated_message) + self.b  # Update feature\n",
        "            else:\n",
        "                out[i] = torch.matmul(self.W, x[i]) + self.b  # Self-loop for isolated nodes\n",
        "\n",
        "        return F.relu(out)  # Apply non-linearity\n",
        "\n",
        "\n",
        "class HybridModel(nn.Module):\n",
        "    def __init__(self, lstm_hidden_size, gnn_hidden_size, num_features, num_classes):\n",
        "        super(HybridModel, self).__init__()\n",
        "        self.lstm = CustomLSTM(input_size=num_features, hidden_size=lstm_hidden_size)\n",
        "        self.gnn = CustomGNN(in_channels=num_features, out_channels=gnn_hidden_size)\n",
        "        self.fc = nn.Linear(lstm_hidden_size + gnn_hidden_size, num_classes)\n",
        "\n",
        "    def forward(self, lstm_input, gnn_input, edge_index, batch):\n",
        "        # LSTM Forward Pass\n",
        "        lstm_out = self.lstm(lstm_input)  # Shape: [batch_size, lstm_hidden_size]\n",
        "\n",
        "        # GNN Forward Pass\n",
        "        gnn_out = self.gnn(gnn_input, edge_index)  # Node-level output: [num_nodes, gnn_hidden_size]\n",
        "\n",
        "        # Pool GNN output to graph level\n",
        "        gnn_out_pooled = global_mean_pool(gnn_out, batch)  # Graph-level output: [batch_size, gnn_hidden_size]\n",
        "\n",
        "        # Concatenate LSTM and GNN outputs\n",
        "        combined = torch.cat((lstm_out, gnn_out_pooled), dim=1)  # Shape: [batch_size, lstm_hidden_size + gnn_hidden_size]\n",
        "\n",
        "        # Final Classification Layer\n",
        "        return self.fc(combined)\n",
        "\n"
      ]
    },
    {
      "cell_type": "code",
      "execution_count": null,
      "metadata": {
        "colab": {
          "base_uri": "https://localhost:8080/"
        },
        "id": "K4OIaJwuTZxD",
        "outputId": "34ace818-836e-46a2-84c1-054e6beacdaa"
      },
      "outputs": [
        {
          "output_type": "stream",
          "name": "stdout",
          "text": [
            "HybridModel(\n",
            "  (lstm): CustomLSTM()\n",
            "  (gnn): CustomGNN()\n",
            "  (fc): Linear(in_features=128, out_features=1, bias=True)\n",
            ")\n"
          ]
        }
      ],
      "source": [
        "# Define the device\n",
        "device = torch.device(\"cuda\" if torch.cuda.is_available() else \"cpu\")\n",
        "\n",
        "# Model Configuration\n",
        "lstm_hidden_size = 64\n",
        "gnn_hidden_size = 64\n",
        "num_features = flow_rate_balanced.shape[1]  # Number of input features\n",
        "num_classes = 1  # Binary classification\n",
        "\n",
        "# Initialize the Hybrid Model\n",
        "hybrid_model = HybridModel(\n",
        "    lstm_hidden_size=lstm_hidden_size,\n",
        "    gnn_hidden_size=gnn_hidden_size,\n",
        "    num_features=num_features,\n",
        "    num_classes=num_classes\n",
        ").to(device)  # Ensure model is moved to the selected device\n",
        "\n",
        "# Debugging Model Initialization\n",
        "print(hybrid_model)\n"
      ]
    },
    {
      "cell_type": "code",
      "execution_count": null,
      "metadata": {
        "id": "ROJ1kdGcTcEf"
      },
      "outputs": [],
      "source": [
        "# Training configuration\n",
        "criterion = nn.BCEWithLogitsLoss()\n",
        "optimizer = torch.optim.Adam(hybrid_model.parameters(), lr=0.001)"
      ]
    },
    {
      "cell_type": "code",
      "execution_count": null,
      "metadata": {
        "colab": {
          "base_uri": "https://localhost:8080/"
        },
        "id": "hj3hXdkUUFYr",
        "outputId": "eeea6496-7827-4838-8136-10ed03438ef1"
      },
      "outputs": [
        {
          "output_type": "stream",
          "name": "stdout",
          "text": [
            "Max index in edge_index: 38\n",
            "Number of rows in node_features: 434\n"
          ]
        }
      ],
      "source": [
        "# Map node IDs to integers in edges_df and nodes_df\n",
        "node_mapping = {node: idx for idx, node in enumerate(set(edges_df['Inlet Node']).union(edges_df['Outlet Node']))}\n",
        "edges_df['Inlet Node'] = edges_df['Inlet Node'].map(node_mapping)\n",
        "edges_df['Outlet Node'] = edges_df['Outlet Node'].map(node_mapping)\n",
        "nodes_df[' Node ID'] = nodes_df[' Node ID'].map(node_mapping)\n",
        "\n",
        "# Prepare node_features\n",
        "node_features = torch.tensor(flow_rate_scaled, dtype=torch.float)\n",
        "\n",
        "# Add padding if necessary\n",
        "num_nodes = len(node_mapping)\n",
        "if node_features.size(0) < num_nodes:\n",
        "    padding = torch.zeros((num_nodes - node_features.size(0), node_features.size(1)))\n",
        "    node_features = torch.cat([node_features, padding], dim=0)\n",
        "\n",
        "# Prepare edge_index\n",
        "edge_index = torch.tensor(\n",
        "    list(zip(edges_df['Inlet Node'], edges_df['Outlet Node'])),\n",
        "    dtype=torch.long\n",
        ").t().contiguous()\n",
        "\n",
        "# Ensure edge_index is valid\n",
        "assert edge_index.max().item() < node_features.size(0), \"edge_index contains invalid node indices!\"\n",
        "\n",
        "print(\"Max index in edge_index:\", edge_index.max().item())\n",
        "print(\"Number of rows in node_features:\", node_features.size(0))\n"
      ]
    },
    {
      "cell_type": "code",
      "execution_count": null,
      "metadata": {
        "id": "HDR4XSZAV247"
      },
      "outputs": [],
      "source": [
        "# Create a mapping from unique nodes in edges_df\n",
        "node_mapping = {node: idx for idx, node in enumerate(set(edges_df['Inlet Node']).union(edges_df['Outlet Node']))}\n",
        "\n",
        "# Map node IDs in edges_df\n",
        "edges_df['Inlet Node'] = edges_df['Inlet Node'].map(node_mapping)\n",
        "edges_df['Outlet Node'] = edges_df['Outlet Node'].map(node_mapping)\n",
        "\n",
        "# Map node IDs in nodes_df (for node_features)\n",
        "nodes_df[' Node ID'] = nodes_df[' Node ID'].map(node_mapping)\n"
      ]
    },
    {
      "cell_type": "code",
      "execution_count": null,
      "metadata": {
        "colab": {
          "base_uri": "https://localhost:8080/"
        },
        "id": "k0kENwI9V5TY",
        "outputId": "563b8d32-00c6-4ccf-ea99-38600bff23e5"
      },
      "outputs": [
        {
          "output_type": "stream",
          "name": "stdout",
          "text": [
            "Updated number of rows in node_features: 434\n"
          ]
        }
      ],
      "source": [
        "# Prepare node_features tensor\n",
        "node_features = torch.tensor(flow_rate_scaled, dtype=torch.float)\n",
        "\n",
        "# Extend node_features if necessary\n",
        "num_nodes = len(node_mapping)\n",
        "if node_features.size(0) < num_nodes:\n",
        "    padding = torch.zeros((num_nodes - node_features.size(0), node_features.size(1)))\n",
        "    node_features = torch.cat([node_features, padding], dim=0)\n",
        "\n",
        "print(\"Updated number of rows in node_features:\", node_features.size(0))\n"
      ]
    },
    {
      "cell_type": "code",
      "execution_count": null,
      "metadata": {
        "id": "lrt5XfHbV7GA"
      },
      "outputs": [],
      "source": [
        "# Convert edges to tensor format\n",
        "edge_index = torch.tensor(\n",
        "    list(zip(edges_df['Inlet Node'], edges_df['Outlet Node'])),\n",
        "    dtype=torch.long\n",
        ").t().contiguous()\n",
        "\n",
        "# Validate edge_index\n",
        "assert edge_index.max().item() < node_features.size(0), \"edge_index contains invalid node indices!\"\n"
      ]
    },
    {
      "cell_type": "code",
      "execution_count": null,
      "metadata": {
        "id": "oQISB9ixqBOC"
      },
      "outputs": [],
      "source": [
        "# Assuming X and y are the input features and target labels\n",
        "X_train, X_val, y_train, y_val = train_test_split(flow_rate_balanced, water_depth_balanced, test_size=0.2, random_state=42)\n",
        "\n",
        "# Convert to PyTorch tensors\n",
        "val_dataset = TensorDataset(torch.tensor(X_val, dtype=torch.float32), torch.tensor(y_val, dtype=torch.float32))\n",
        "\n",
        "# Create DataLoaders\n",
        "val_loader = DataLoader(val_dataset, batch_size=32, shuffle=False)\n"
      ]
    },
    {
      "cell_type": "code",
      "execution_count": null,
      "metadata": {
        "colab": {
          "base_uri": "https://localhost:8080/"
        },
        "id": "1F1QKwKmoF7w",
        "outputId": "529cdf43-8d54-41d9-d91f-f47fe22a9ae3"
      },
      "outputs": [
        {
          "output_type": "stream",
          "name": "stdout",
          "text": [
            "Epoch 1: Train Loss: 0.6903, Test Loss: 0.6699\n",
            "Epoch 2: Train Loss: 0.6561, Test Loss: 0.6342\n",
            "Epoch 3: Train Loss: 0.6217, Test Loss: 0.5955\n",
            "Epoch 4: Train Loss: 0.5816, Test Loss: 0.5502\n",
            "Epoch 5: Train Loss: 0.5431, Test Loss: 0.5070\n",
            "Epoch 6: Train Loss: 0.4950, Test Loss: 0.4609\n",
            "Epoch 7: Train Loss: 0.4569, Test Loss: 0.4180\n",
            "Epoch 8: Train Loss: 0.4089, Test Loss: 0.3761\n",
            "Epoch 9: Train Loss: 0.3672, Test Loss: 0.3389\n",
            "Epoch 10: Train Loss: 0.3318, Test Loss: 0.3054\n",
            "Epoch 11: Train Loss: 0.3023, Test Loss: 0.2744\n",
            "Epoch 12: Train Loss: 0.2661, Test Loss: 0.2465\n",
            "Epoch 13: Train Loss: 0.2455, Test Loss: 0.2221\n",
            "Epoch 14: Train Loss: 0.2226, Test Loss: 0.2003\n",
            "Epoch 15: Train Loss: 0.1986, Test Loss: 0.1818\n",
            "Epoch 16: Train Loss: 0.1796, Test Loss: 0.1655\n",
            "Epoch 17: Train Loss: 0.1626, Test Loss: 0.1515\n",
            "Epoch 18: Train Loss: 0.1550, Test Loss: 0.1390\n",
            "Epoch 19: Train Loss: 0.1424, Test Loss: 0.1282\n",
            "Epoch 20: Train Loss: 0.1303, Test Loss: 0.1195\n",
            "Epoch 21: Train Loss: 0.1238, Test Loss: 0.1108\n",
            "Epoch 22: Train Loss: 0.1136, Test Loss: 0.1037\n",
            "Epoch 23: Train Loss: 0.1073, Test Loss: 0.0975\n",
            "Epoch 24: Train Loss: 0.0976, Test Loss: 0.0922\n",
            "Epoch 25: Train Loss: 0.0955, Test Loss: 0.0878\n",
            "Epoch 26: Train Loss: 0.0879, Test Loss: 0.0833\n",
            "Epoch 27: Train Loss: 0.0864, Test Loss: 0.0797\n",
            "Epoch 28: Train Loss: 0.0800, Test Loss: 0.0767\n",
            "Epoch 29: Train Loss: 0.0786, Test Loss: 0.0731\n",
            "Epoch 30: Train Loss: 0.0733, Test Loss: 0.0702\n",
            "Epoch 31: Train Loss: 0.0735, Test Loss: 0.0672\n",
            "Epoch 32: Train Loss: 0.0690, Test Loss: 0.0647\n",
            "Epoch 33: Train Loss: 0.0647, Test Loss: 0.0627\n",
            "Epoch 34: Train Loss: 0.0643, Test Loss: 0.0606\n",
            "Epoch 35: Train Loss: 0.0591, Test Loss: 0.0592\n",
            "Epoch 36: Train Loss: 0.0610, Test Loss: 0.0572\n",
            "Epoch 37: Train Loss: 0.0571, Test Loss: 0.0553\n",
            "Epoch 38: Train Loss: 0.0542, Test Loss: 0.0540\n",
            "Epoch 39: Train Loss: 0.0529, Test Loss: 0.0525\n",
            "Epoch 40: Train Loss: 0.0516, Test Loss: 0.0519\n",
            "Epoch 41: Train Loss: 0.0491, Test Loss: 0.0500\n",
            "Epoch 42: Train Loss: 0.0493, Test Loss: 0.0488\n",
            "Epoch 43: Train Loss: 0.0481, Test Loss: 0.0478\n",
            "Epoch 44: Train Loss: 0.0450, Test Loss: 0.0465\n",
            "Epoch 45: Train Loss: 0.0445, Test Loss: 0.0458\n",
            "Epoch 46: Train Loss: 0.0440, Test Loss: 0.0450\n",
            "Epoch 47: Train Loss: 0.0425, Test Loss: 0.0444\n",
            "Epoch 48: Train Loss: 0.0408, Test Loss: 0.0428\n",
            "Epoch 49: Train Loss: 0.0401, Test Loss: 0.0421\n",
            "Epoch 50: Train Loss: 0.0381, Test Loss: 0.0417\n"
          ]
        },
        {
          "output_type": "execute_result",
          "data": {
            "text/plain": [
              "<All keys matched successfully>"
            ]
          },
          "metadata": {},
          "execution_count": 71
        }
      ],
      "source": [
        "# Define input size (number of features in train_data)\n",
        "input_size = flow_rate_balanced.shape[1]\n",
        "\n",
        "# Training with validation\n",
        "best_hybrid_model = None\n",
        "best_val_loss = float('inf')\n",
        "patience = 5\n",
        "patience_counter = 0\n",
        "\n",
        "for epoch in range(50):  # Adjust number of epochs\n",
        "    hybrid_model.train()\n",
        "    train_loss = 0\n",
        "    for train_data, train_labels in train_loader:\n",
        "        # Reshape and move to device\n",
        "        train_data = train_data.view(train_data.size(0), -1, input_size).to(device)  # Shape: [32, 1, 23]\n",
        "        train_labels = train_labels.to(device)\n",
        "\n",
        "        # Debugging shapes\n",
        "\n",
        "        # Create batch tensor for GNN\n",
        "        batch = torch.arange(train_data.size(0), device=device).repeat_interleave(\n",
        "            node_features.size(0) // train_data.size(0)\n",
        "        )\n",
        "        if node_features.size(0) % train_data.size(0) > 0:\n",
        "            extra_batch = torch.arange(node_features.size(0) % train_data.size(0), device=device)\n",
        "            batch = torch.cat((batch, extra_batch))\n",
        "\n",
        "        optimizer.zero_grad()\n",
        "        try:\n",
        "            # Forward pass\n",
        "            outputs = hybrid_model(train_data, node_features.to(device), edge_index, batch)\n",
        "\n",
        "            loss = criterion(outputs.squeeze(), train_labels.float())  # Adjust for output shape\n",
        "            loss.backward()\n",
        "            optimizer.step()\n",
        "            train_loss += loss.item()\n",
        "        except RuntimeError as e:\n",
        "            print(\"RuntimeError during training: \", e)\n",
        "            break\n",
        "\n",
        "    train_loss /= len(train_loader)\n",
        "\n",
        "    # Validation phase\n",
        "    hybrid_model.eval()\n",
        "    test_loss = 0\n",
        "    with torch.no_grad():\n",
        "        for test_data, test_labels in test_loader:\n",
        "            # Reshape and move to device\n",
        "            test_data = test_data.view(test_data.size(0), -1, input_size).to(device)  # Shape: [32, 1, 23]\n",
        "            test_labels = test_labels.to(device)\n",
        "\n",
        "            # Create batch tensor for GNN\n",
        "            batch = torch.arange(test_data.size(0), device=device).repeat_interleave(\n",
        "                node_features.size(0) // test_data.size(0)\n",
        "            )\n",
        "            if node_features.size(0) % test_data.size(0) > 0:\n",
        "                extra_batch = torch.arange(node_features.size(0) % test_data.size(0), device=device)\n",
        "                batch = torch.cat((batch, extra_batch))\n",
        "\n",
        "            try:\n",
        "                # Debugging shapes before validation\n",
        "                # Forward pass\n",
        "                outputs = hybrid_model(test_data, node_features.to(device), edge_index, batch)\n",
        "\n",
        "                # Ensure outputs align with test_labels\n",
        "                loss = criterion(outputs.squeeze(), test_labels.float())  # Adjust for output shape\n",
        "                test_loss += loss.item()\n",
        "            except RuntimeError as e:\n",
        "                print(\"RuntimeError during validation: \", e)\n",
        "                break\n",
        "\n",
        "    test_loss /= len(test_loader)\n",
        "    print(\"Epoch {}: Train Loss: {:.4f}, Test Loss: {:.4f}\".format(epoch + 1, train_loss, test_loss))\n",
        "\n",
        "\n",
        "    # Early stopping logic\n",
        "    if test_loss < best_val_loss:\n",
        "        best_val_loss = test_loss\n",
        "        best_hybrid_model = hybrid_model.state_dict()\n",
        "        patience_counter = 0\n",
        "    else:\n",
        "        patience_counter += 1\n",
        "        if patience_counter >= patience:\n",
        "            print(\"Early stopping triggered.\")\n",
        "            break\n",
        "\n",
        "# Load the best model\n",
        "hybrid_model.load_state_dict(best_hybrid_model)\n"
      ]
    },
    {
      "cell_type": "code",
      "execution_count": null,
      "metadata": {
        "id": "vIa3tb9vZodz"
      },
      "outputs": [],
      "source": [
        "# Evaluation mode\n",
        "hybrid_model.eval()\n",
        "\n",
        "all_preds = []\n",
        "all_labels = []\n",
        "\n",
        "with torch.no_grad():\n",
        "    for x_batch, y_batch in test_loader:\n",
        "        x_batch = x_batch.view(x_batch.size(0), -1, input_size).to(device)\n",
        "        y_batch = y_batch.to(device)\n",
        "\n",
        "        # Generate batch tensor for evaluation\n",
        "        num_nodes = node_features.size(0)\n",
        "        batch = torch.arange(x_batch.size(0), device=device).repeat_interleave(num_nodes // x_batch.size(0))\n",
        "        if num_nodes % x_batch.size(0) > 0:\n",
        "            extra_batch = torch.arange(num_nodes % x_batch.size(0), device=device)\n",
        "            batch = torch.cat((batch, extra_batch))\n",
        "\n",
        "        # Get predictions\n",
        "        outputs = hybrid_model(x_batch, node_features.to(device), edge_index, batch)\n",
        "        preds = (torch.sigmoid(outputs) > 0.5).long().cpu().numpy()\n",
        "        labels = y_batch.cpu().numpy()\n",
        "\n",
        "        all_preds.extend(preds.flatten())\n",
        "        all_labels.extend(labels.flatten())"
      ]
    },
    {
      "cell_type": "code",
      "execution_count": null,
      "metadata": {
        "colab": {
          "base_uri": "https://localhost:8080/"
        },
        "id": "vVX8SKyuZzhk",
        "outputId": "a97674d6-5a6d-4c14-b8b9-b118405966f7"
      },
      "outputs": [
        {
          "output_type": "stream",
          "name": "stdout",
          "text": [
            "Accuracy: 0.9826\n",
            "Precision: 1.0000\n",
            "Recall: 0.9643\n",
            "F1 Score: 0.9818\n",
            "Confusion Matrix:\n",
            "[[88  0]\n",
            " [ 3 81]]\n"
          ]
        }
      ],
      "source": [
        "# Metrics calculation\n",
        "hybrid_model_accuracy = accuracy_score(all_labels, all_preds)\n",
        "hybrid_model_precision = precision_score(all_labels, all_preds, zero_division=0)\n",
        "hybrid_model_recall = recall_score(all_labels, all_preds)\n",
        "hybrid_model_f1 = f1_score(all_labels, all_preds)\n",
        "conf_matrix = confusion_matrix(all_labels, all_preds)\n",
        "\n",
        "print(\"Accuracy: {:.4f}\".format(hybrid_model_accuracy))\n",
        "print(\"Precision: {:.4f}\".format(hybrid_model_precision))\n",
        "print(\"Recall: {:.4f}\".format(hybrid_model_recall))\n",
        "print(\"F1 Score: {:.4f}\".format(hybrid_model_f1))\n",
        "\n",
        "print(\"Confusion Matrix:\")\n",
        "print(conf_matrix)"
      ]
    },
    {
      "cell_type": "code",
      "execution_count": null,
      "metadata": {
        "colab": {
          "base_uri": "https://localhost:8080/",
          "height": 507
        },
        "id": "WcUb8dOpZ4ln",
        "outputId": "38430cac-c612-41de-d719-9221dcdd24e3"
      },
      "outputs": [
        {
          "output_type": "display_data",
          "data": {
            "text/plain": [
              "<Figure size 600x600 with 2 Axes>"
            ],
            "image/png": "[encoded data removed]"
          },
          "metadata": {}
        }
      ],
      "source": [
        "# Plot confusion matrix\n",
        "plt.figure(figsize=(6, 6))\n",
        "plt.imshow(conf_matrix, cmap='Blues', interpolation='nearest')\n",
        "plt.title(\"Confusion Matrix\")\n",
        "plt.colorbar()\n",
        "plt.xlabel(\"Predicted Labels\")\n",
        "plt.ylabel(\"True Labels\")\n",
        "plt.xticks([0, 1])\n",
        "plt.yticks([0, 1])\n",
        "\n",
        "for i in range(conf_matrix.shape[0]):\n",
        "    for j in range(conf_matrix.shape[1]):\n",
        "        plt.text(j, i, conf_matrix[i, j], ha='center', va='center', color='red')\n",
        "\n",
        "plt.show()"
      ]
    },
    {
      "cell_type": "code",
      "execution_count": null,
      "metadata": {
        "id": "JElG_yWLfyzw"
      },
      "outputs": [],
      "source": [
        "# Data Preprocessing for base line models\n",
        "\n",
        "X = flow_rate_balanced\n",
        "y = water_depth_balanced\n",
        "\n",
        "# Split into training and test sets\n",
        "X_train, X_test, y_train, y_test = train_test_split(X, y, test_size=0.2, random_state=42)\n",
        "\n",
        "# Flatten features for scikit-learn models\n",
        "X_train_flat = X_train.reshape(X_train.shape[0], -1)\n",
        "X_test_flat = X_test.reshape(X_test.shape[0], -1)\n",
        "\n",
        "# Ensure labels are in the correct format\n",
        "y_train = y_train.ravel() if len(y_train.shape) > 1 else y_train\n",
        "y_test = y_test.ravel() if len(y_test.shape) > 1 else y_test\n"
      ]
    },
    {
      "cell_type": "code",
      "execution_count": null,
      "metadata": {
        "id": "hZDiDGk2ggHz"
      },
      "outputs": [],
      "source": [
        "# Initialize models\n",
        "logistic_model = LogisticRegression(random_state=42, max_iter=1000)\n",
        "svm_model = SVC(kernel='linear', random_state=42, probability=True)"
      ]
    },
    {
      "cell_type": "code",
      "execution_count": null,
      "metadata": {
        "id": "ci5XgOI2gmUI"
      },
      "outputs": [],
      "source": [
        "# Train Logistic Regression\n",
        "logistic_model.fit(X_train_flat, y_train)\n",
        "y_pred_logistic = logistic_model.predict(X_test_flat)\n",
        "\n",
        "# Train SVM\n",
        "svm_model.fit(X_train_flat, y_train)\n",
        "y_pred_svm = svm_model.predict(X_test_flat)"
      ]
    },
    {
      "cell_type": "code",
      "source": [
        "#Compute Metrics for Logistic Regression\n",
        "accuracy_logistic = accuracy_score(y_test, y_pred_logistic)\n",
        "precision_logistic = precision_score(y_test, y_pred_logistic)\n",
        "recall_logistic = recall_score(y_test, y_pred_logistic)\n",
        "roc_auc_logistic = roc_auc_score(y_test, y_pred_logistic)\n",
        "\n",
        "# Compute Metrics for SVM\n",
        "accuracy_svm = accuracy_score(y_test, y_pred_svm)\n",
        "precision_svm = precision_score(y_test, y_pred_svm)\n",
        "recall_svm = recall_score(y_test, y_pred_svm)\n",
        "roc_auc_svm = roc_auc_score(y_test, y_pred_svm)\n"
      ],
      "metadata": {
        "id": "Op69fUxQ0-ho"
      },
      "execution_count": null,
      "outputs": []
    },
    {
      "cell_type": "code",
      "source": [
        "# Example data for baseline models\n",
        "model_names = ['Logistic Regression', 'SVM', 'Hybrid Model']\n",
        "\n",
        "# Ensure all metrics are scalars\n",
        "accuracy = [\n",
        "    float(accuracy_logistic),\n",
        "    float(accuracy_svm),\n",
        "    float(hybrid_model_accuracy)\n",
        "]\n",
        "\n",
        "precision = [\n",
        "    float(precision_logistic),\n",
        "    float(precision_svm),\n",
        "    float(hybrid_model_precision)\n",
        "]\n",
        "\n",
        "recall = [\n",
        "    float(recall_logistic),\n",
        "    float(recall_svm),\n",
        "    float(hybrid_model_recall)\n",
        "]\n",
        "\n",
        "# Plotting Accuracy, Precision, and Recall\n",
        "plt.figure(figsize=(12, 6))\n",
        "\n",
        "# Accuracy\n",
        "plt.plot(model_names, accuracy, marker='o', label='Accuracy')\n",
        "\n",
        "# Precision\n",
        "plt.plot(model_names, precision, marker='o', label='Precision')\n",
        "\n",
        "# Recall\n",
        "plt.plot(model_names, recall, marker='o', label='Recall')\n",
        "\n",
        "# Adding titles and labels\n",
        "plt.title('Comparison of Accuracy, Precision, and Recall Across Models')\n",
        "plt.xlabel('Models')\n",
        "plt.ylabel('Metrics')\n",
        "plt.ylim(0.0, 1.0)\n",
        "plt.grid(True)\n",
        "plt.legend()\n",
        "plt.show()\n"
      ],
      "metadata": {
        "colab": {
          "base_uri": "https://localhost:8080/",
          "height": 564
        },
        "id": "cs1z256x0kNN",
        "outputId": "45715c54-ced9-4305-db53-50874f91692c"
      },
      "execution_count": null,
      "outputs": [
        {
          "output_type": "display_data",
          "data": {
            "text/plain": [
              "<Figure size 1200x600 with 1 Axes>"
            ],
            "image/png": "[encoded data removed]"
          },
          "metadata": {}
        }
      ]
    },
    {
      "cell_type": "code",
      "source": [
        "# Example data for baseline models\n",
        "model_names = ['Logistic Regression', 'SVM', 'Hybrid Model']\n",
        "\n",
        "# Metrics\n",
        "accuracy = [\n",
        "    float(accuracy_logistic),\n",
        "    float(accuracy_svm),\n",
        "    float(hybrid_model_accuracy)\n",
        "]\n",
        "\n",
        "precision = [\n",
        "    float(precision_logistic),\n",
        "    float(precision_svm),\n",
        "    float(hybrid_model_precision)\n",
        "]\n",
        "\n",
        "recall = [\n",
        "    float(recall_logistic),\n",
        "    float(recall_svm),\n",
        "    float(hybrid_model_recall)\n",
        "]\n",
        "\n",
        "# Creating bar chart for better visualization\n",
        "x = np.arange(len(model_names))  # Model indices\n",
        "\n",
        "# Plotting\n",
        "fig, ax = plt.subplots(1, 3, figsize=(18, 5), sharey=True)\n",
        "\n",
        "# Accuracy\n",
        "ax[0].bar(x, accuracy, color='blue', alpha=0.7, label='Accuracy')\n",
        "ax[0].set_title('Accuracy Comparison')\n",
        "ax[0].set_xticks(x)\n",
        "ax[0].set_xticklabels(model_names, rotation=15)\n",
        "ax[0].set_ylabel('Metrics')\n",
        "ax[0].set_ylim(0.8, 1.0)  # Adjust to focus on the range of values\n",
        "ax[0].grid(axis='y')\n",
        "\n",
        "# Precision\n",
        "ax[1].bar(x, precision, color='orange', alpha=0.7, label='Precision')\n",
        "ax[1].set_title('Precision Comparison')\n",
        "ax[1].set_xticks(x)\n",
        "ax[1].set_xticklabels(model_names, rotation=15)\n",
        "ax[1].grid(axis='y')\n",
        "\n",
        "# Recall\n",
        "ax[2].bar(x, recall, color='green', alpha=0.7, label='Recall')\n",
        "ax[2].set_title('Recall Comparison')\n",
        "ax[2].set_xticks(x)\n",
        "ax[2].set_xticklabels(model_names, rotation=15)\n",
        "ax[2].grid(axis='y')\n",
        "\n",
        "# Final adjustments\n",
        "plt.suptitle('Comparison of Accuracy, Precision, and Recall Across Models', fontsize=16)\n",
        "plt.tight_layout()\n",
        "plt.show()\n"
      ],
      "metadata": {
        "colab": {
          "base_uri": "https://localhost:8080/",
          "height": 426
        },
        "id": "SGrdedVmOsXT",
        "outputId": "681fde9c-b81e-4cc0-a333-9d7fd7a5aa1d"
      },
      "execution_count": null,
      "outputs": [
        {
          "output_type": "display_data",
          "data": {
            "text/plain": [
              "<Figure size 1800x500 with 3 Axes>"
            ],
            "image/png": "[encoded data removed]"
          },
          "metadata": {}
        }
      ]
    }
  ],
  "metadata": {
    "colab": {
      "provenance": []
    },
    "kernelspec": {
      "display_name": "Python 3",
      "name": "python3"
    },
    "language_info": {
      "name": "python"
    }
  },
  "nbformat": 4,
  "nbformat_minor": 0
}